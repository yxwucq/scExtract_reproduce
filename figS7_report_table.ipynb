{
 "cells": [
  {
   "cell_type": "code",
   "execution_count": 1,
   "metadata": {},
   "outputs": [],
   "source": [
    "from reportlab.lib import colors\n",
    "from reportlab.lib.pagesizes import letter\n",
    "from reportlab.platypus import SimpleDocTemplate, Table, TableStyle\n",
    "from reportlab.lib.units import inch\n",
    "\n",
    "data = {\n",
    "    0: 'CD4-positive T cell', 1: 'Fibroblast', 2: 'Suprabasal keratinocyte',\n",
    "    3: 'Vascular endothelial cell', 4: 'Suprabasal keratinocyte', 5: 'Basal keratinocyte',\n",
    "    6: 'Dendritic cell', 7: 'Spinous keratinocyte', 8: 'Smooth muscle cell',\n",
    "    9: 'Unknown', 10: 'Keratinocyte', 11: 'Keratinocyte',\n",
    "    12: 'Basal keratinocyte', 13: 'T cell', 14: 'Melanocyte',\n",
    "    15: 'Lymphatic endothelial cell', 16: 'Mast cell', 17: 'Dendritic cell',\n",
    "    18: 'Keratinocyte', 19: 'Dendritic cell', 20: 'Endothelial cell',\n",
    "    21: 'Keratinocyte'\n",
    "}\n",
    "\n",
    "table_data = [['Cluster ID', 'Cell Type', 'Cluster ID', 'Cell Type', 'Cluster ID', 'Cell Type']]\n",
    "current_row = []\n",
    "\n",
    "for i in range(0, 22, 3):\n",
    "    row = []\n",
    "    for j in range(3):\n",
    "        if i + j < 22:\n",
    "            row.extend([str(i + j), data[i + j]])\n",
    "        else:\n",
    "            row.extend(['-', '-'])\n",
    "    table_data.append(row)\n",
    "\n",
    "doc = SimpleDocTemplate(\"fig3/cell_types_table.pdf\", pagesize=letter)\n",
    "elements = []\n",
    "\n",
    "table = Table(table_data, colWidths=[0.8*inch, 2*inch]*3)\n",
    "table.setStyle(TableStyle([\n",
    "    ('FONT', (0, 0), (-1, -1), 'Helvetica', 10),\n",
    "    ('FONT', (0, 0), (-1, 0), 'Helvetica-Bold', 10), \n",
    "    ('BACKGROUND', (0, 0), (-1, 0), colors.grey), \n",
    "    ('TEXTCOLOR', (0, 0), (-1, 0), colors.whitesmoke), \n",
    "    ('ALIGN', (0, 0), (-1, -1), 'CENTER'), \n",
    "    ('GRID', (0, 0), (-1, -1), 1, colors.black),\n",
    "    ('VALIGN', (0, 0), (-1, -1), 'MIDDLE'),\n",
    "    ('RIGHTPADDING', (0, 0), (-1, -1), 10),\n",
    "    ('LEFTPADDING', (0, 0), (-1, -1), 10),\n",
    "]))\n",
    "\n",
    "elements.append(table)\n",
    "\n",
    "doc.build(elements)"
   ]
  }
 ],
 "metadata": {
  "kernelspec": {
   "display_name": "AutoExtract",
   "language": "python",
   "name": "python3"
  },
  "language_info": {
   "codemirror_mode": {
    "name": "ipython",
    "version": 3
   },
   "file_extension": ".py",
   "mimetype": "text/x-python",
   "name": "python",
   "nbconvert_exporter": "python",
   "pygments_lexer": "ipython3",
   "version": "3.12.2"
  }
 },
 "nbformat": 4,
 "nbformat_minor": 2
}
